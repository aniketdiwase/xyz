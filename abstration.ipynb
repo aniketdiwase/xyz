{
 "cells": [
  {
   "cell_type": "code",
   "execution_count": 13,
   "id": "9723bc1e-6c0d-4cd8-9088-84d99cca31e1",
   "metadata": {
    "jupyter": {
     "source_hidden": true
    },
    "tags": []
   },
   "outputs": [],
   "source": [
    "import abc\n",
    "class pwskills:\n",
    "    @abc.abstractmethod\n",
    "    def student_details(self):\n",
    "        pass\n",
    "    @abc.abstractmethod\n",
    "    def student_assignmemnt(self):\n",
    "        pass\n",
    "    @abc.abstractmethod\n",
    "    def student_marks(self):\n",
    "        pass"
   ]
  },
  {
   "cell_type": "code",
   "execution_count": 17,
   "id": "9674914a-9b7a-4e0c-a7f7-472683bc0cbd",
   "metadata": {},
   "outputs": [],
   "source": [
    "class data_science(pwskills):\n",
    "    def student_details(self):\n",
    "        return \"aniket diliprao diwase\"\n",
    "    def student_assignmennt (self):\n",
    "        return \"jdjdkjhjkdhfkjhk\"\n",
    "    "
   ]
  },
  {
   "cell_type": "code",
   "execution_count": 18,
   "id": "832ef01c-c7ae-4624-95c1-b2cde5b9e0d2",
   "metadata": {},
   "outputs": [],
   "source": [
    "class web_dev(pwskills):\n",
    "    def student_details(self):\n",
    "        return \"details\"\n",
    "    \n",
    "    def student_marks(self):\n",
    "        return \"marks\""
   ]
  },
  {
   "cell_type": "code",
   "execution_count": 21,
   "id": "06d79574-c79f-4d72-a4c9-e5eb3c669458",
   "metadata": {},
   "outputs": [
    {
     "data": {
      "text/plain": [
       "'aniket diliprao diwase'"
      ]
     },
     "execution_count": 21,
     "metadata": {},
     "output_type": "execute_result"
    }
   ],
   "source": [
    "ds = data_science()\n",
    "ds.student_details()"
   ]
  },
  {
   "cell_type": "code",
   "execution_count": 22,
   "id": "3b3d0efe-d4d6-429c-a0d6-d0d07df2a621",
   "metadata": {},
   "outputs": [
    {
     "data": {
      "text/plain": [
       "'jdjdkjhjkdhfkjhk'"
      ]
     },
     "execution_count": 22,
     "metadata": {},
     "output_type": "execute_result"
    }
   ],
   "source": [
    "ds.student_assignmennt()"
   ]
  },
  {
   "cell_type": "code",
   "execution_count": 24,
   "id": "4046c218-c1ae-491a-baa6-81998c116f47",
   "metadata": {},
   "outputs": [],
   "source": [
    "ds.student_marks()"
   ]
  },
  {
   "cell_type": "code",
   "execution_count": null,
   "id": "c205c60a-1f5b-48e1-8b77-9acbc256e4c5",
   "metadata": {},
   "outputs": [],
   "source": []
  },
  {
   "cell_type": "code",
   "execution_count": null,
   "id": "dc631011-9ea7-41f0-9ccb-7b5f15c4db5b",
   "metadata": {},
   "outputs": [],
   "source": []
  }
 ],
 "metadata": {
  "kernelspec": {
   "display_name": "Python 3 (ipykernel)",
   "language": "python",
   "name": "python3"
  },
  "language_info": {
   "codemirror_mode": {
    "name": "ipython",
    "version": 3
   },
   "file_extension": ".py",
   "mimetype": "text/x-python",
   "name": "python",
   "nbconvert_exporter": "python",
   "pygments_lexer": "ipython3",
   "version": "3.10.8"
  }
 },
 "nbformat": 4,
 "nbformat_minor": 5
}
